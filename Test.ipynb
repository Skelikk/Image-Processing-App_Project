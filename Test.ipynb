{
 "cells": [
  {
   "cell_type": "code",
   "execution_count": 5,
   "metadata": {},
   "outputs": [],
   "source": [
    "import cv2\n",
    "import numpy as np\n",
    "\n",
    "\n",
    "(B, G, R) = cv2.split(image)\n",
    "empty_channel = np.zeros_like(R)\n",
    "features = np.array([[R, empty_channel, empty_channel], [empty_channel,G,empty_channel], [empty_channel,empty_channel,B]])\n",
    "\n",
    "\n",
    "image_path = r'E:\\Desktop\\Signals project\\Signal_Project\\b00_i01_a02_20240813_160158_left_0004.jpg'\n",
    "image = cv2.imread(image_path)\n",
    "if image is None:\n",
    "    print(\"Could not open or find the image\")\n",
    "    exit(0)\n",
    "(B, G, R) = cv2.split(image)\n",
    "empty_channel = np.zeros_like(R)\n",
    "R_features = np.array(R)\n",
    "for \n",
    " "
   ]
  }
 ],
 "metadata": {
  "kernelspec": {
   "display_name": "Python 3",
   "language": "python",
   "name": "python3"
  },
  "language_info": {
   "codemirror_mode": {
    "name": "ipython",
    "version": 3
   },
   "file_extension": ".py",
   "mimetype": "text/x-python",
   "name": "python",
   "nbconvert_exporter": "python",
   "pygments_lexer": "ipython3",
   "version": "3.12.8"
  }
 },
 "nbformat": 4,
 "nbformat_minor": 2
}
